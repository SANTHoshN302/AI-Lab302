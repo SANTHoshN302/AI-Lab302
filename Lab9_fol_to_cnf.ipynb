{
  "nbformat": 4,
  "nbformat_minor": 0,
  "metadata": {
    "colab": {
      "provenance": [],
      "include_colab_link": true
    },
    "kernelspec": {
      "name": "python3",
      "display_name": "Python 3"
    },
    "language_info": {
      "name": "python"
    }
  },
  "cells": [
    {
      "cell_type": "markdown",
      "metadata": {
        "id": "view-in-github",
        "colab_type": "text"
      },
      "source": [
        "<a href=\"https://colab.research.google.com/github/SANTHoshN302/AI-Lab302/blob/main/Lab9_fol_to_cnf.ipynb\" target=\"_parent\"><img src=\"https://colab.research.google.com/assets/colab-badge.svg\" alt=\"Open In Colab\"/></a>"
      ]
    },
    {
      "cell_type": "code",
      "execution_count": 6,
      "metadata": {
        "colab": {
          "base_uri": "https://localhost:8080/"
        },
        "id": "DscRIkJjJ_v5",
        "outputId": "af45f914-f342-4307-9c8a-05cee142f185"
      },
      "outputs": [
        {
          "output_type": "stream",
          "name": "stdout",
          "text": [
            "=== Knowledge Base in CNF ===\n",
            "(Food(x) ∨ Likes(John,x))\n",
            "Food(Apple)\n",
            "Food(Vegetable)\n",
            "∀x((Eats(x,y) ∧ ¬Killed(x)) ∨ Food(y))\n",
            "(Eats(Anil,Peanuts) ∧ Alive(Anil))\n",
            "∀x(Eats(Anil,y) ∨ Eats(Harry,y))\n",
            "(Alive(x) ∨ ¬Killed(x))\n",
            "(¬Killed(x) ∨ Alive(x))\n",
            "\n",
            "Negated Goal (for resolution): ¬Likes(John,Peanuts)\n",
            "\n",
            "Can we prove that John likes peanuts?\n",
            "Result: NO (cannot prove)\n"
          ]
        }
      ],
      "source": [
        "import re\n",
        "import itertools\n",
        "\n",
        "\n",
        "def remove_implications(expr):\n",
        "    expr = re.sub(r'\\(([^()]*)->([^()]*)\\)', r'(¬\\1∨\\2)', expr)\n",
        "    return expr.replace('->', '∨')\n",
        "\n",
        "def move_negations(expr):\n",
        "    expr = expr.replace('¬(¬', '(')\n",
        "    expr = expr.replace('¬(∀', '∃¬')\n",
        "    expr = expr.replace('¬(∃', '∀¬')\n",
        "    expr = expr.replace('¬(A∧B)', '(¬A∨¬B)')\n",
        "    expr = expr.replace('¬(A∨B)', '(¬A∧¬B)')\n",
        "    return expr\n",
        "\n",
        "def drop_quantifiers(expr):\n",
        "    return re.sub(r'[∀∃][a-z]\\.', '', expr)\n",
        "\n",
        "def distribute(expr):\n",
        "    changed = True\n",
        "    while changed:\n",
        "        new_expr = re.sub(r'\\(([^()]*)∨\\(([^()]*)∧([^()]*)\\)\\)',\n",
        "                          r'((\\1∨\\2)∧(\\1∨\\3))', expr)\n",
        "        new_expr = re.sub(r'\\(\\(([^()]*)∧([^()]*)\\)∨([^()]*)\\)',\n",
        "                          r'((\\1∨\\3)∧(\\2∨\\3))', new_expr)\n",
        "        changed = new_expr != expr\n",
        "        expr = new_expr\n",
        "    return expr\n",
        "\n",
        "def to_cnf(expr):\n",
        "    expr = remove_implications(expr)\n",
        "    expr = move_negations(expr)\n",
        "    expr = drop_quantifiers(expr)\n",
        "    expr = distribute(expr)\n",
        "    return expr\n",
        "\n",
        "\n",
        "KB = [\n",
        "    \"∀x.(Food(x) -> Likes(John,x))\",\n",
        "    \"Food(Apple)\",\n",
        "    \"Food(Vegetable)\",\n",
        "    \"∀x∀y.((Eats(x,y) ∧ ¬Killed(x)) -> Food(y))\",\n",
        "    \"(Eats(Anil,Peanuts) ∧ Alive(Anil))\",\n",
        "    \"∀x∀y.(Eats(Anil,y) -> Eats(Harry,y))\",\n",
        "    \"∀x.(Alive(x) -> ¬Killed(x))\",\n",
        "    \"∀x.(¬Killed(x) -> Alive(x))\"\n",
        "]\n",
        "\n",
        "\n",
        "goal = \"Likes(John,Peanuts)\"\n",
        "\n",
        "\n",
        "print(\"=== Knowledge Base in CNF ===\")\n",
        "CNF_KB = [to_cnf(s) for s in KB]\n",
        "for clause in CNF_KB:\n",
        "    print(clause)\n",
        "\n",
        "\n",
        "neg_goal = f\"¬{goal}\"\n",
        "print(\"\\nNegated Goal (for resolution):\", neg_goal)\n",
        "\n",
        "\n",
        "clauses = set(CNF_KB + [neg_goal])\n",
        "\n",
        "def resolution(clauses):\n",
        "    new = set()\n",
        "    while True:\n",
        "        pairs = [(c1, c2) for i, c1 in enumerate(clauses)\n",
        "                 for c2 in list(clauses)[i + 1:]]\n",
        "        for (ci, cj) in pairs:\n",
        "            resolvents = resolve(ci, cj)\n",
        "            if \"\" in resolvents:\n",
        "                return True\n",
        "            new |= set(resolvents)\n",
        "        if new.issubset(clauses):\n",
        "            return False\n",
        "        clauses |= new\n",
        "\n",
        "def resolve(ci, cj):\n",
        "    resolvents = set()\n",
        "    ci_literals = set(ci.replace(\"(\", \"\").replace(\")\", \"\").split(\"∧\"))\n",
        "    cj_literals = set(cj.replace(\"(\", \"\").replace(\")\", \"\").split(\"∧\"))\n",
        "    for di in ci_literals:\n",
        "        for dj in cj_literals:\n",
        "            if di.strip() == (\"¬\" + dj.strip()) or dj.strip() == (\"¬\" + di.strip()):\n",
        "                new_clause = (ci_literals | cj_literals) - {di, dj}\n",
        "                resolvents.add(\"∧\".join(new_clause))\n",
        "    return resolvents\n",
        "\n",
        "proved = resolution(clauses)\n",
        "print(\"\\nCan we prove that John likes peanuts?\")\n",
        "print(\"Result:\", \"YES (derived contradiction ⇒ proved)\" if proved else \"NO (cannot prove)\")\n",
        "\n",
        "\n"
      ]
    }
  ]
}